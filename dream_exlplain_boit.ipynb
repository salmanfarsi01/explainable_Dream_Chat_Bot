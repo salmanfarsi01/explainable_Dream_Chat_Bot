{
  "nbformat": 4,
  "nbformat_minor": 0,
  "metadata": {
    "colab": {
      "provenance": []
    },
    "kernelspec": {
      "name": "python3",
      "display_name": "Python 3"
    },
    "language_info": {
      "name": "python"
    }
  },
  "cells": [
    {
      "cell_type": "code",
      "source": [
        "# Step 0: Install required packages\n",
        "!pip install requests transformers"
      ],
      "metadata": {
        "colab": {
          "base_uri": "https://localhost:8080/"
        },
        "id": "lyvD03M6bcpK",
        "outputId": "ba1fca4f-3a98-48a3-b7e5-f2c4ae7f86eb"
      },
      "execution_count": 70,
      "outputs": [
        {
          "output_type": "stream",
          "name": "stdout",
          "text": [
            "Requirement already satisfied: requests in /usr/local/lib/python3.11/dist-packages (2.32.3)\n",
            "Requirement already satisfied: transformers in /usr/local/lib/python3.11/dist-packages (4.55.0)\n",
            "Requirement already satisfied: charset-normalizer<4,>=2 in /usr/local/lib/python3.11/dist-packages (from requests) (3.4.3)\n",
            "Requirement already satisfied: idna<4,>=2.5 in /usr/local/lib/python3.11/dist-packages (from requests) (3.10)\n",
            "Requirement already satisfied: urllib3<3,>=1.21.1 in /usr/local/lib/python3.11/dist-packages (from requests) (2.5.0)\n",
            "Requirement already satisfied: certifi>=2017.4.17 in /usr/local/lib/python3.11/dist-packages (from requests) (2025.8.3)\n",
            "Requirement already satisfied: filelock in /usr/local/lib/python3.11/dist-packages (from transformers) (3.18.0)\n",
            "Requirement already satisfied: huggingface-hub<1.0,>=0.34.0 in /usr/local/lib/python3.11/dist-packages (from transformers) (0.34.4)\n",
            "Requirement already satisfied: numpy>=1.17 in /usr/local/lib/python3.11/dist-packages (from transformers) (2.0.2)\n",
            "Requirement already satisfied: packaging>=20.0 in /usr/local/lib/python3.11/dist-packages (from transformers) (25.0)\n",
            "Requirement already satisfied: pyyaml>=5.1 in /usr/local/lib/python3.11/dist-packages (from transformers) (6.0.2)\n",
            "Requirement already satisfied: regex!=2019.12.17 in /usr/local/lib/python3.11/dist-packages (from transformers) (2024.11.6)\n",
            "Requirement already satisfied: tokenizers<0.22,>=0.21 in /usr/local/lib/python3.11/dist-packages (from transformers) (0.21.4)\n",
            "Requirement already satisfied: safetensors>=0.4.3 in /usr/local/lib/python3.11/dist-packages (from transformers) (0.6.2)\n",
            "Requirement already satisfied: tqdm>=4.27 in /usr/local/lib/python3.11/dist-packages (from transformers) (4.67.1)\n",
            "Requirement already satisfied: fsspec>=2023.5.0 in /usr/local/lib/python3.11/dist-packages (from huggingface-hub<1.0,>=0.34.0->transformers) (2025.3.0)\n",
            "Requirement already satisfied: typing-extensions>=3.7.4.3 in /usr/local/lib/python3.11/dist-packages (from huggingface-hub<1.0,>=0.34.0->transformers) (4.14.1)\n",
            "Requirement already satisfied: hf-xet<2.0.0,>=1.1.3 in /usr/local/lib/python3.11/dist-packages (from huggingface-hub<1.0,>=0.34.0->transformers) (1.1.7)\n"
          ]
        }
      ]
    },
    {
      "cell_type": "code",
      "source": [
        "%pip install -q -U \"google-genai>=1.0.0\""
      ],
      "metadata": {
        "colab": {
          "base_uri": "https://localhost:8080/"
        },
        "id": "nRoJlOoOiVJw",
        "outputId": "c01dcb3e-1c38-44c4-ac77-48cc1eb8142c"
      },
      "execution_count": 84,
      "outputs": [
        {
          "output_type": "stream",
          "name": "stdout",
          "text": [
            "\u001b[?25l     \u001b[90m━━━━━━━━━━━━━━━━━━━━━━━━━━━━━━━━━━━━━━━━\u001b[0m \u001b[32m0.0/43.1 kB\u001b[0m \u001b[31m?\u001b[0m eta \u001b[36m-:--:--\u001b[0m\r\u001b[2K     \u001b[90m━━━━━━━━━━━━━━━━━━━━━━━━━━━━━━━━━━━━━━━━\u001b[0m \u001b[32m43.1/43.1 kB\u001b[0m \u001b[31m2.8 MB/s\u001b[0m eta \u001b[36m0:00:00\u001b[0m\n",
            "\u001b[?25h\u001b[?25l   \u001b[90m━━━━━━━━━━━━━━━━━━━━━━━━━━━━━━━━━━━━━━━━\u001b[0m \u001b[32m0.0/229.3 kB\u001b[0m \u001b[31m?\u001b[0m eta \u001b[36m-:--:--\u001b[0m\r\u001b[2K   \u001b[90m━━━━━━━━━━━━━━━━━━━━━━━━━━━━━━━━━━━━━━━━\u001b[0m \u001b[32m229.3/229.3 kB\u001b[0m \u001b[31m16.3 MB/s\u001b[0m eta \u001b[36m0:00:00\u001b[0m\n",
            "\u001b[?25h"
          ]
        }
      ]
    },
    {
      "cell_type": "code",
      "execution_count": 1,
      "metadata": {
        "colab": {
          "base_uri": "https://localhost:8080/"
        },
        "id": "2_xmUZz8Ktar",
        "outputId": "5ad896ef-8f77-4591-91b5-59a910dd1c22"
      },
      "outputs": [
        {
          "output_type": "stream",
          "name": "stdout",
          "text": [
            "Requirement already satisfied: requests in /usr/local/lib/python3.11/dist-packages (2.32.3)\n",
            "Requirement already satisfied: charset-normalizer<4,>=2 in /usr/local/lib/python3.11/dist-packages (from requests) (3.4.3)\n",
            "Requirement already satisfied: idna<4,>=2.5 in /usr/local/lib/python3.11/dist-packages (from requests) (3.10)\n",
            "Requirement already satisfied: urllib3<3,>=1.21.1 in /usr/local/lib/python3.11/dist-packages (from requests) (2.5.0)\n",
            "Requirement already satisfied: certifi>=2017.4.17 in /usr/local/lib/python3.11/dist-packages (from requests) (2025.8.3)\n"
          ]
        }
      ],
      "source": [
        "# Install requests for API calls\n",
        "!pip install requests\n"
      ]
    },
    {
      "cell_type": "code",
      "source": [
        "import os\n",
        "import json\n",
        "import requests\n",
        "from google import genai\n",
        "\n",
        "# Load API keys from Colab secrets\n",
        "# GOOGLE_API_KEY is already set in environment variables\n",
        "client = genai.Client()  # automatically uses GOOGLE_API_KEY from os.environ\n",
        "MODEL_ID = \"gemini-2.5-flash-preview-05-20\"\n",
        "SERPER_API_KEY = \"64d6ae585c82b13dbf6085e4ffbbeb499fb4db4d\""
      ],
      "metadata": {
        "colab": {
          "base_uri": "https://localhost:8080/"
        },
        "id": "w1V4hcjqicXA",
        "outputId": "b13efe92-113a-49a6-d61a-d6beb8e0ab64"
      },
      "execution_count": 96,
      "outputs": [
        {
          "output_type": "stream",
          "name": "stderr",
          "text": [
            "WARNING:google_genai._api_client:Both GOOGLE_API_KEY and GEMINI_API_KEY are set. Using GOOGLE_API_KEY.\n"
          ]
        }
      ]
    },
    {
      "cell_type": "code",
      "source": [
        "# -----------------------------\n",
        "# Step 1: Gemini API dream interpretation\n",
        "# -----------------------------\n",
        "def interpret_dream_gemini(user_query):\n",
        "    \"\"\"\n",
        "    Sends the dream query to Gemini 2.5 Flash model and returns interpretation.\n",
        "    \"\"\"\n",
        "    try:\n",
        "        response = client.models.generate_content(\n",
        "            model=MODEL_ID,\n",
        "            contents=f\"You are an expert dream interpreter. Explain the meaning of this dream:\\n{user_query}\"\n",
        "        )\n",
        "        return response.text\n",
        "    except Exception as e:\n",
        "        return f\"Error: {e}\"\n"
      ],
      "metadata": {
        "id": "ZiY6drlnL3xM"
      },
      "execution_count": 97,
      "outputs": []
    },
    {
      "cell_type": "code",
      "source": [
        "def get_web_insights_serper(user_query, top_k=3):\n",
        "    \"\"\"\n",
        "    Uses Serper API to get top-k related snippets for the dream query.\n",
        "    \"\"\"\n",
        "    try:\n",
        "        url = \"https://google.serper.dev/search\"\n",
        "        headers = {\"X-API-KEY\": SERPER_API_KEY, \"Content-Type\": \"application/json\"}\n",
        "        payload = {\"q\": f\"{user_query} dream meaning\"}\n",
        "        response = requests.post(url, headers=headers, json=payload)\n",
        "        data = response.json()\n",
        "\n",
        "        # Try multiple possible keys for results\n",
        "        results = data.get(\"organic\", []) or data.get(\"organic_results\", []) or data.get(\"items\", [])\n",
        "        snippets = []\n",
        "        for item in results[:top_k]:\n",
        "            # Some items may have \"snippet\" or \"description\"\n",
        "            snippet = item.get(\"snippet\") or item.get(\"description\")\n",
        "            if snippet:\n",
        "                snippets.append(snippet)\n",
        "\n",
        "        if not snippets:\n",
        "            snippets.append(\"No web insights found or API returned empty results.\")\n",
        "\n",
        "        return snippets\n",
        "\n",
        "    except Exception as e:\n",
        "        return [f\"Error fetching web insights: {e}\"]\n"
      ],
      "metadata": {
        "id": "LHfwF_tHMHCC"
      },
      "execution_count": 98,
      "outputs": []
    },
    {
      "cell_type": "code",
      "source": [
        "# -----------------------------\n",
        "# Step 3: Merge interpretations\n",
        "# -----------------------------\n",
        "def merge_dream_interpretation(user_query):\n",
        "    \"\"\"\n",
        "    Provide a brief, structured interpretation of the dream about [user_query]. Focus only on core symbols and their most likely meanings. Keep the 'ultimate_interpretation' short (3-4 sentences max), merging only the most relevant web insights if available. Prioritize clarity and brevity over depth. Example format:*\n",
        "    \"\"\"\n",
        "    llm_response = interpret_dream_gemini(user_query)\n",
        "    web_snippets = get_web_insights_serper(user_query)\n",
        "\n",
        "    ultimate_interpretation = f\"{llm_response}\"\n",
        "    if web_snippets:\n",
        "        ultimate_interpretation += \" Merged with key themes from web insights: \" + \"; \".join(web_snippets)\n",
        "\n",
        "    json_output = {\n",
        "        \"dream_query\": user_query,\n",
        "        \"ai_interpretation\": llm_response,\n",
        "        \"web_insights\": web_snippets,\n",
        "        \"ultimate_interpretation\": ultimate_interpretation\n",
        "    }\n",
        "\n",
        "    try:\n",
        "        print(\"JSON Output:\\n\", json.dumps(json_output, indent=2))\n",
        "    except Exception as e:\n",
        "        print(f\"JSON Encode Error: {e}\")\n",
        "\n",
        "    return json_output"
      ],
      "metadata": {
        "id": "gKC5X4KLMMuy"
      },
      "execution_count": 106,
      "outputs": []
    },
    {
      "cell_type": "code",
      "source": [
        "# -----------------------------\n",
        "# Step 4: Example run\n",
        "# -----------------------------\n",
        "user_query = \"I dreamt of flying over the ocean\"\n",
        "dream_result = merge_dream_interpretation(user_query)"
      ],
      "metadata": {
        "colab": {
          "base_uri": "https://localhost:8080/"
        },
        "id": "H_6bmVgwMVeq",
        "outputId": "a565bd93-1487-4bcc-c749-3e75a87c50ae"
      },
      "execution_count": 107,
      "outputs": [
        {
          "output_type": "stream",
          "name": "stdout",
          "text": [
            "JSON Output:\n",
            " {\n",
            "  \"dream_query\": \"I dreamt of flying over the ocean\",\n",
            "  \"ai_interpretation\": \"Ah, this is a truly magnificent and rich dream! As an expert dream interpreter, I can tell you that \\\"flying over the ocean\\\" is a powerful archetypal image, laden with meaning about your inner state and outer life circumstances.\\n\\nLet's break down the key symbols:\\n\\n1.  **Flying:**\\n    *   **Freedom and Liberation:** Flying in dreams almost universally signifies a desire for or an experience of freedom. You might be feeling liberated from constraints, responsibilities, or situations that previously weighed you down.\\n    *   **Transcendence and Perspective:** It suggests an ability to rise above everyday concerns, gain a higher perspective, and see the \\\"bigger picture\\\" of your life. You're not bogged down by details but can observe from an elevated viewpoint.\\n    *   **Mastery and Control:** Often, flying dreams indicate a feeling of being in control of your life, your destiny, and your emotions. You are soaring, not falling, which speaks to a sense of power and capability.\\n    *   **Aspiration and Achievement:** It can symbolize reaching new heights, achieving goals, or realizing your potential. You might be on the cusp of a significant personal or professional breakthrough.\\n    *   **Escapism (less common for \\\"over\\\"):** In some cases, if the flying feels like an avoidance, it could hint at a desire to escape difficulties. However, \\\"over the ocean\\\" usually shifts this to a more proactive, empowered escape.\\n\\n2.  **The Ocean:**\\n    *   **The Unconscious Mind:** The ocean is the classic symbol of the vast, mysterious, and deep unconscious mind. It represents your hidden emotions, instincts, intuitions, and forgotten memories.\\n    *   **Emotions and Feelings:** It signifies the vast expanse of your emotional landscape \\u2013 calm, turbulent, deep, shallow. It encompasses all the feelings you experience, both acknowledged and unacknowledged.\\n    *   **Life's Journey and Potential:** The ocean can also represent the great unknown of life's journey, the boundless possibilities, and the collective human experience.\\n    *   **Spirituality and Connection:** For many, the ocean evokes a sense of the divine, the infinite, or a deep spiritual connection.\\n\\n**Combining the Symbols: Flying Over the Ocean**\\n\\nWhen you put these two powerful symbols together, the dream points to several profound interpretations:\\n\\n1.  **Emotional Mastery and Perspective:** You are gaining a powerful new perspective on your emotional world. You're not *in* the ocean (overwhelmed by emotions), but *above* it. This suggests an ability to observe your feelings without being consumed by them, navigating them with clarity and control. You might be detaching from emotional drama in a healthy way.\\n2.  **Navigating the Unconscious with Ease:** You are exploring the depths of your own mind, your instincts, and your intuition from a position of strength and clarity. You might be accessing creative insights or understanding hidden aspects of yourself without fear.\\n3.  **Feeling Free Amidst Life's Vastness:** You are experiencing a profound sense of freedom and liberation as you soar over the grand tapestry of life and its many unknowns. You are confident in your ability to handle whatever comes your way, seeing challenges from an elevated, less daunting viewpoint.\\n4.  **A Spiritual or Transformative Journey:** This dream often indicates a period of significant personal growth or spiritual awakening. You are transcending old limitations and connecting with a deeper, more expansive part of yourself.\\n5.  **New Opportunities and Horizons:** The vastness of the ocean combined with the ability to fly over it can symbolize exciting new opportunities unfolding before you. You have the freedom and the vision to explore these new paths.\\n\\n**To further refine the interpretation, consider these questions about your dream:**\\n\\n*   **How did you feel while flying?** (Exhilarated, peaceful, powerful, light, or perhaps a little fearful/precarious?)\\n    *   *Exhilarated/Peaceful:* Strong positive indication of confidence and success.\\n    *   *Fearful/Precarious:* Might suggest you feel your control is fragile, or there's an underlying anxiety about this new freedom.\\n*   **What was the state of the ocean?** (Calm, sparkling, rough, stormy, dark, light?)\\n    *   *Calm, clear ocean:* You are navigating your emotional landscape with ease and clarity. Harmony.\\n    *   *Rough, stormy ocean:* You are rising above emotional turbulence or a challenging period, observing the chaos from a place of calm.\\n    *   *Dark, unknown ocean:* You might be confronting unknown aspects of your subconscious or facing a period of uncertainty with courage.\\n*   **Were you flying effortlessly or with effort?**\\n    *   *Effortless:* Things are flowing easily in your waking life, or you feel very capable.\\n    *   *With effort:* You might be working hard to maintain this sense of control or achieve this freedom, but you are succeeding.\\n\\n**In summary, \\\"flying over the ocean\\\" is an overwhelmingly positive dream.** It speaks to your growing sense of empowerment, your ability to manage your emotions with grace, your deepening self-awareness, and your readiness to embrace new possibilities. You are likely feeling a sense of liberation and optimism about your path forward.\\n\\nReflect on what feels liberating in your current life, what emotions you're gaining perspective on, or what new horizons are opening up for you. The dream is a beautiful affirmation of your strength and potential.\",\n",
            "  \"web_insights\": [\n",
            "    \"I call this an anxiety dream. To float above the earth speaks to a desire to be above the worries that you're currently dealing with. To die in ...\",\n",
            "    \"Flying in dreams often symbolizes freedom, ambition, or escape, while crossing an ocean can represent emotional journeys or challenges. To ...\",\n",
            "    \"Dreams about flying over calm, shallow ocean waters often symbolize freedom and emotional clarity. Straight, crossing paths may represent life ...\"\n",
            "  ],\n",
            "  \"ultimate_interpretation\": \"Ah, this is a truly magnificent and rich dream! As an expert dream interpreter, I can tell you that \\\"flying over the ocean\\\" is a powerful archetypal image, laden with meaning about your inner state and outer life circumstances.\\n\\nLet's break down the key symbols:\\n\\n1.  **Flying:**\\n    *   **Freedom and Liberation:** Flying in dreams almost universally signifies a desire for or an experience of freedom. You might be feeling liberated from constraints, responsibilities, or situations that previously weighed you down.\\n    *   **Transcendence and Perspective:** It suggests an ability to rise above everyday concerns, gain a higher perspective, and see the \\\"bigger picture\\\" of your life. You're not bogged down by details but can observe from an elevated viewpoint.\\n    *   **Mastery and Control:** Often, flying dreams indicate a feeling of being in control of your life, your destiny, and your emotions. You are soaring, not falling, which speaks to a sense of power and capability.\\n    *   **Aspiration and Achievement:** It can symbolize reaching new heights, achieving goals, or realizing your potential. You might be on the cusp of a significant personal or professional breakthrough.\\n    *   **Escapism (less common for \\\"over\\\"):** In some cases, if the flying feels like an avoidance, it could hint at a desire to escape difficulties. However, \\\"over the ocean\\\" usually shifts this to a more proactive, empowered escape.\\n\\n2.  **The Ocean:**\\n    *   **The Unconscious Mind:** The ocean is the classic symbol of the vast, mysterious, and deep unconscious mind. It represents your hidden emotions, instincts, intuitions, and forgotten memories.\\n    *   **Emotions and Feelings:** It signifies the vast expanse of your emotional landscape \\u2013 calm, turbulent, deep, shallow. It encompasses all the feelings you experience, both acknowledged and unacknowledged.\\n    *   **Life's Journey and Potential:** The ocean can also represent the great unknown of life's journey, the boundless possibilities, and the collective human experience.\\n    *   **Spirituality and Connection:** For many, the ocean evokes a sense of the divine, the infinite, or a deep spiritual connection.\\n\\n**Combining the Symbols: Flying Over the Ocean**\\n\\nWhen you put these two powerful symbols together, the dream points to several profound interpretations:\\n\\n1.  **Emotional Mastery and Perspective:** You are gaining a powerful new perspective on your emotional world. You're not *in* the ocean (overwhelmed by emotions), but *above* it. This suggests an ability to observe your feelings without being consumed by them, navigating them with clarity and control. You might be detaching from emotional drama in a healthy way.\\n2.  **Navigating the Unconscious with Ease:** You are exploring the depths of your own mind, your instincts, and your intuition from a position of strength and clarity. You might be accessing creative insights or understanding hidden aspects of yourself without fear.\\n3.  **Feeling Free Amidst Life's Vastness:** You are experiencing a profound sense of freedom and liberation as you soar over the grand tapestry of life and its many unknowns. You are confident in your ability to handle whatever comes your way, seeing challenges from an elevated, less daunting viewpoint.\\n4.  **A Spiritual or Transformative Journey:** This dream often indicates a period of significant personal growth or spiritual awakening. You are transcending old limitations and connecting with a deeper, more expansive part of yourself.\\n5.  **New Opportunities and Horizons:** The vastness of the ocean combined with the ability to fly over it can symbolize exciting new opportunities unfolding before you. You have the freedom and the vision to explore these new paths.\\n\\n**To further refine the interpretation, consider these questions about your dream:**\\n\\n*   **How did you feel while flying?** (Exhilarated, peaceful, powerful, light, or perhaps a little fearful/precarious?)\\n    *   *Exhilarated/Peaceful:* Strong positive indication of confidence and success.\\n    *   *Fearful/Precarious:* Might suggest you feel your control is fragile, or there's an underlying anxiety about this new freedom.\\n*   **What was the state of the ocean?** (Calm, sparkling, rough, stormy, dark, light?)\\n    *   *Calm, clear ocean:* You are navigating your emotional landscape with ease and clarity. Harmony.\\n    *   *Rough, stormy ocean:* You are rising above emotional turbulence or a challenging period, observing the chaos from a place of calm.\\n    *   *Dark, unknown ocean:* You might be confronting unknown aspects of your subconscious or facing a period of uncertainty with courage.\\n*   **Were you flying effortlessly or with effort?**\\n    *   *Effortless:* Things are flowing easily in your waking life, or you feel very capable.\\n    *   *With effort:* You might be working hard to maintain this sense of control or achieve this freedom, but you are succeeding.\\n\\n**In summary, \\\"flying over the ocean\\\" is an overwhelmingly positive dream.** It speaks to your growing sense of empowerment, your ability to manage your emotions with grace, your deepening self-awareness, and your readiness to embrace new possibilities. You are likely feeling a sense of liberation and optimism about your path forward.\\n\\nReflect on what feels liberating in your current life, what emotions you're gaining perspective on, or what new horizons are opening up for you. The dream is a beautiful affirmation of your strength and potential. Merged with key themes from web insights: I call this an anxiety dream. To float above the earth speaks to a desire to be above the worries that you're currently dealing with. To die in ...; Flying in dreams often symbolizes freedom, ambition, or escape, while crossing an ocean can represent emotional journeys or challenges. To ...; Dreams about flying over calm, shallow ocean waters often symbolize freedom and emotional clarity. Straight, crossing paths may represent life ...\"\n",
            "}\n"
          ]
        }
      ]
    },
    {
      "cell_type": "code",
      "source": [],
      "metadata": {
        "id": "4-DucjcggGVQ"
      },
      "execution_count": 101,
      "outputs": []
    },
    {
      "cell_type": "code",
      "source": [],
      "metadata": {
        "id": "bItCXh4onkoP"
      },
      "execution_count": null,
      "outputs": []
    }
  ]
}